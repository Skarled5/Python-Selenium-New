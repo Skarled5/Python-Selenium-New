{
 "cells": [
  {
   "cell_type": "code",
   "execution_count": null,
   "id": "33ccecdd",
   "metadata": {},
   "outputs": [],
   "source": [
    "import openpyxl\n",
    "dosya = openpyxl.load_workbook(\"./data.xsx\")\n",
    "print(dosya.sheetnames)\n",
    "deger = dosya[\"kitaplar\"][\"B4\"].value\n",
    "print(deger)"
   ]
  },
  {
   "cell_type": "code",
   "execution_count": null,
   "id": "1dd3a130",
   "metadata": {},
   "outputs": [],
   "source": [
    "# exceldeki sayfadaki verinin tamamını yazdırma\n",
    "\n",
    "dosya = openpyxl.load_workbook(\"Kitap1.xlsx\")\n",
    "sayfa = dosya[\"notlar\"]\n",
    "\n",
    "satır_sayısı = sayfa.max.row\n",
    "sutun_sayısı = sayfa.max_column\n",
    "\n",
    "data=[]\n",
    "for i in range(2,satır_sayısı+1):\n",
    "    satır=[]\n",
    "    for j in range(1,sutun_sayısı+1):\n",
    "        satır.append(sayfa.cell(i,j).value)\n",
    "    data.append(satır)\n",
    "    \n",
    "print(data)"
   ]
  },
  {
   "cell_type": "code",
   "execution_count": null,
   "id": "c9c63ca3",
   "metadata": {},
   "outputs": [],
   "source": [
    "def excel_listeler_listesi(dosyayeri,sayfaadi):\n",
    "    dosya = openpyxl.load_workbook(dosyayeri)\n",
    "    sayfa = dosya[sayfaadi]\n",
    "    \n",
    "    satır_sayısı = sayfa.max.row\n",
    "    sutun_sayısı = sayfa.max_column\n",
    "\n",
    "    data=[]\n",
    "    for i in range(2,satır_sayısı+1):\n",
    "        satır=[]\n",
    "        for j in range(1,sutun_sayısı+1):\n",
    "            satır.append(sayfa.cell(i,j).value)\n",
    "        data.append(satır)\n",
    "        \n",
    "    return data\n",
    "\n",
    "tumveri = excel_listeler_listesi(\"Kitap1.xlsx\",\"notlar\")\n",
    "print(tumveri)\n",
    "\n",
    "for i in range(len(tumveri)):\n",
    "    liste = tumveri[i]\n",
    "    isim = liste[0]\n",
    "    vize = liste[1]\n",
    "    final = liste[2]\n",
    "    "
   ]
  },
  {
   "cell_type": "code",
   "execution_count": null,
   "id": "7bd21da7",
   "metadata": {},
   "outputs": [],
   "source": [
    "# python üzerinden excele veri girme\n",
    "\n",
    "dosya = openpyxl.load_workbook(\"./Kitap1.xlsx\")\n",
    "sayfa = dosya[\"notlar\"]\n",
    "sayfa.cell(row=1,column=4,value=\"ortalama\") # excelde ortalama adlı kolon oluşturduk\n",
    "\n",
    "satır_sayısı = sayfa.max.row\n",
    "\n",
    "for satır in range(2,satır_sayısı+1):\n",
    "    vize = sayfa.cell(satır,2).value\n",
    "    final = sayfa.cell(satır,3).value\n",
    "    ortalama = (vize+final)/2\n",
    "    sayfa.cell(row=satır,column=4,value=ortalama)\n",
    "    \n",
    "dosya.save(\"./Kitap1-Yeni.xlsx\") # yeni dosya oluşturduk\n",
    "\n"
   ]
  },
  {
   "cell_type": "code",
   "execution_count": null,
   "id": "e5ae08ea",
   "metadata": {},
   "outputs": [],
   "source": [
    "#python biçimlendirme yani normalde openpyxl excel fontları falan excel normalde aldığı halde yapar bu nasıl değişir\n",
    "from openpyxl.styles import Font, PatternFill\n",
    "import openpyxl\n",
    "\n",
    "# Dosyayı yükle\n",
    "dosya = openpyxl.load_workbook(\"./Kitap1.xlsx\")\n",
    "sayfa = dosya[\"notlar\"]\n",
    "\n",
    "# Yeni bir font ve dolgu rengi oluştur\n",
    "yeni_font = Font(name='Arial', size=12, bold=True, italic=False)\n",
    "kirmizi_dolgu = PatternFill(start_color='FFFF0000', end_color='FFFF0000', fill_type='solid')\n",
    "yesil_dolgu = PatternFill(start_color='FF00FF00', end_color='FF00FF00', fill_type='solid')\n",
    "\n",
    "sayfa.cell(row=1, column=4, value=\"ortalama\")\n",
    "sayfa.cell(row=1, column=4).font = yeni_font  # Başlık hücresine font ayarlarını uygula\n",
    "\n",
    "satır_sayısı = sayfa.max_row\n",
    "\n",
    "for satır in range(2, satır_sayısı + 1):\n",
    "    vize = sayfa.cell(row=satır, column=2).value\n",
    "    final = sayfa.cell(row=satır, column=3).value\n",
    "    ortalama = (vize + final) / 2\n",
    "    ortalama_hücresi = sayfa.cell(row=satır, column=4)\n",
    "    ortalama_hücresi.value = ortalama\n",
    "    if ortalama >= 55:\n",
    "        ortalama_hücresi.font = yeni_font\n",
    "        ortalama_hücresi.fill = yesil_dolgu  # Yeşil dolgu rengini ayarla\n",
    "    else:\n",
    "        ortalama_hücresi.font = yeni_font\n",
    "        ortalama_hücresi.fill = kirmizi_dolgu  # Kırmızı dolgu rengini ayarla\n",
    "\n",
    "# Dosyayı kaydet\n",
    "dosya.save(\"./Kitap1-Yeni.xlsx\")"
   ]
  },
  {
   "cell_type": "code",
   "execution_count": null,
   "id": "43a40273",
   "metadata": {},
   "outputs": [],
   "source": []
  }
 ],
 "metadata": {
  "kernelspec": {
   "display_name": "Python 3 (ipykernel)",
   "language": "python",
   "name": "python3"
  },
  "language_info": {
   "codemirror_mode": {
    "name": "ipython",
    "version": 3
   },
   "file_extension": ".py",
   "mimetype": "text/x-python",
   "name": "python",
   "nbconvert_exporter": "python",
   "pygments_lexer": "ipython3",
   "version": "3.9.12"
  }
 },
 "nbformat": 4,
 "nbformat_minor": 5
}
