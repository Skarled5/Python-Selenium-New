{
 "cells": [
  {
   "cell_type": "code",
   "execution_count": null,
   "id": "7c4b411e",
   "metadata": {},
   "outputs": [],
   "source": [
    "from selenium import webdriver\n",
    "import time\n",
    "from selenium.webdriver.chrome.service import Service\n",
    "from selenium.webdriver.common.by import By\n",
    "from selenium.webdriver import Keys\n",
    "from selenium.webdriver.remote.webelement import WebElement\n",
    "from selenium.webdriver.support.wait import WebDriverWait\n",
    "from selenium.webdriver.support import expected_conditions\n",
    "from selenium.webdriver.common.alert import Alert"
   ]
  },
  {
   "cell_type": "code",
   "execution_count": 2,
   "id": "48e17a8b",
   "metadata": {},
   "outputs": [
    {
     "name": "stderr",
     "output_type": "stream",
     "text": [
      "Error getting version of chromedriver 115. Retrying with chromedriver 114 (attempt 1/5)\n"
     ]
    },
    {
     "name": "stdout",
     "output_type": "stream",
     "text": [
      "GitHub: Let’s build from here · GitHub\n"
     ]
    },
    {
     "ename": "WebDriverException",
     "evalue": "Message: disconnected: not connected to DevTools\n  (failed to check if window was closed: disconnected: not connected to DevTools)\n  (Session info: chrome=115.0.5790.171)\nStacktrace:\nBacktrace:\n\tGetHandleVerifier [0x0089A813+48355]\n\t(No symbol) [0x0082C4B1]\n\t(No symbol) [0x00735358]\n\t(No symbol) [0x007270EB]\n\t(No symbol) [0x007277AA]\n\t(No symbol) [0x00727748]\n\t(No symbol) [0x0071C2AA]\n\t(No symbol) [0x0071CB1D]\n\t(No symbol) [0x007827B8]\n\t(No symbol) [0x0077A703]\n\t(No symbol) [0x007582DC]\n\t(No symbol) [0x007593DD]\n\tGetHandleVerifier [0x00AFAABD+2539405]\n\tGetHandleVerifier [0x00B3A78F+2800735]\n\tGetHandleVerifier [0x00B3456C+2775612]\n\tGetHandleVerifier [0x009251E0+616112]\n\t(No symbol) [0x00835F8C]\n\t(No symbol) [0x00832328]\n\t(No symbol) [0x0083240B]\n\t(No symbol) [0x00824FF7]\n\tBaseThreadInitThunk [0x76447D59+25]\n\tRtlInitializeExceptionChain [0x7788B79B+107]\n\tRtlClearBits [0x7788B71F+191]\n",
     "output_type": "error",
     "traceback": [
      "\u001b[1;31m---------------------------------------------------------------------------\u001b[0m",
      "\u001b[1;31mWebDriverException\u001b[0m                        Traceback (most recent call last)",
      "Input \u001b[1;32mIn [2]\u001b[0m, in \u001b[0;36m<cell line: 9>\u001b[1;34m()\u001b[0m\n\u001b[0;32m      6\u001b[0m \u001b[38;5;28mprint\u001b[39m(driver\u001b[38;5;241m.\u001b[39mtitle)\n\u001b[0;32m      8\u001b[0m time\u001b[38;5;241m.\u001b[39msleep(\u001b[38;5;241m2\u001b[39m)\n\u001b[1;32m----> 9\u001b[0m \u001b[43mdriver\u001b[49m\u001b[38;5;241;43m.\u001b[39;49m\u001b[43mclose\u001b[49m\u001b[43m(\u001b[49m\u001b[43m)\u001b[49m\n",
      "File \u001b[1;32m~\\anaconda3\\lib\\site-packages\\selenium\\webdriver\\remote\\webdriver.py:457\u001b[0m, in \u001b[0;36mWebDriver.close\u001b[1;34m(self)\u001b[0m\n\u001b[0;32m    449\u001b[0m \u001b[38;5;28;01mdef\u001b[39;00m \u001b[38;5;21mclose\u001b[39m(\u001b[38;5;28mself\u001b[39m) \u001b[38;5;241m-\u001b[39m\u001b[38;5;241m>\u001b[39m \u001b[38;5;28;01mNone\u001b[39;00m:\n\u001b[0;32m    450\u001b[0m     \u001b[38;5;124;03m\"\"\"Closes the current window.\u001b[39;00m\n\u001b[0;32m    451\u001b[0m \n\u001b[0;32m    452\u001b[0m \u001b[38;5;124;03m    :Usage:\u001b[39;00m\n\u001b[1;32m   (...)\u001b[0m\n\u001b[0;32m    455\u001b[0m \u001b[38;5;124;03m            driver.close()\u001b[39;00m\n\u001b[0;32m    456\u001b[0m \u001b[38;5;124;03m    \"\"\"\u001b[39;00m\n\u001b[1;32m--> 457\u001b[0m     \u001b[38;5;28;43mself\u001b[39;49m\u001b[38;5;241;43m.\u001b[39;49m\u001b[43mexecute\u001b[49m\u001b[43m(\u001b[49m\u001b[43mCommand\u001b[49m\u001b[38;5;241;43m.\u001b[39;49m\u001b[43mCLOSE\u001b[49m\u001b[43m)\u001b[49m\n",
      "File \u001b[1;32m~\\anaconda3\\lib\\site-packages\\selenium\\webdriver\\remote\\webdriver.py:346\u001b[0m, in \u001b[0;36mWebDriver.execute\u001b[1;34m(self, driver_command, params)\u001b[0m\n\u001b[0;32m    344\u001b[0m response \u001b[38;5;241m=\u001b[39m \u001b[38;5;28mself\u001b[39m\u001b[38;5;241m.\u001b[39mcommand_executor\u001b[38;5;241m.\u001b[39mexecute(driver_command, params)\n\u001b[0;32m    345\u001b[0m \u001b[38;5;28;01mif\u001b[39;00m response:\n\u001b[1;32m--> 346\u001b[0m     \u001b[38;5;28;43mself\u001b[39;49m\u001b[38;5;241;43m.\u001b[39;49m\u001b[43merror_handler\u001b[49m\u001b[38;5;241;43m.\u001b[39;49m\u001b[43mcheck_response\u001b[49m\u001b[43m(\u001b[49m\u001b[43mresponse\u001b[49m\u001b[43m)\u001b[49m\n\u001b[0;32m    347\u001b[0m     response[\u001b[38;5;124m\"\u001b[39m\u001b[38;5;124mvalue\u001b[39m\u001b[38;5;124m\"\u001b[39m] \u001b[38;5;241m=\u001b[39m \u001b[38;5;28mself\u001b[39m\u001b[38;5;241m.\u001b[39m_unwrap_value(response\u001b[38;5;241m.\u001b[39mget(\u001b[38;5;124m\"\u001b[39m\u001b[38;5;124mvalue\u001b[39m\u001b[38;5;124m\"\u001b[39m, \u001b[38;5;28;01mNone\u001b[39;00m))\n\u001b[0;32m    348\u001b[0m     \u001b[38;5;28;01mreturn\u001b[39;00m response\n",
      "File \u001b[1;32m~\\anaconda3\\lib\\site-packages\\selenium\\webdriver\\remote\\errorhandler.py:245\u001b[0m, in \u001b[0;36mErrorHandler.check_response\u001b[1;34m(self, response)\u001b[0m\n\u001b[0;32m    243\u001b[0m         alert_text \u001b[38;5;241m=\u001b[39m value[\u001b[38;5;124m\"\u001b[39m\u001b[38;5;124malert\u001b[39m\u001b[38;5;124m\"\u001b[39m]\u001b[38;5;241m.\u001b[39mget(\u001b[38;5;124m\"\u001b[39m\u001b[38;5;124mtext\u001b[39m\u001b[38;5;124m\"\u001b[39m)\n\u001b[0;32m    244\u001b[0m     \u001b[38;5;28;01mraise\u001b[39;00m exception_class(message, screen, stacktrace, alert_text)  \u001b[38;5;66;03m# type: ignore[call-arg]  # mypy is not smart enough here\u001b[39;00m\n\u001b[1;32m--> 245\u001b[0m \u001b[38;5;28;01mraise\u001b[39;00m exception_class(message, screen, stacktrace)\n",
      "\u001b[1;31mWebDriverException\u001b[0m: Message: disconnected: not connected to DevTools\n  (failed to check if window was closed: disconnected: not connected to DevTools)\n  (Session info: chrome=115.0.5790.171)\nStacktrace:\nBacktrace:\n\tGetHandleVerifier [0x0089A813+48355]\n\t(No symbol) [0x0082C4B1]\n\t(No symbol) [0x00735358]\n\t(No symbol) [0x007270EB]\n\t(No symbol) [0x007277AA]\n\t(No symbol) [0x00727748]\n\t(No symbol) [0x0071C2AA]\n\t(No symbol) [0x0071CB1D]\n\t(No symbol) [0x007827B8]\n\t(No symbol) [0x0077A703]\n\t(No symbol) [0x007582DC]\n\t(No symbol) [0x007593DD]\n\tGetHandleVerifier [0x00AFAABD+2539405]\n\tGetHandleVerifier [0x00B3A78F+2800735]\n\tGetHandleVerifier [0x00B3456C+2775612]\n\tGetHandleVerifier [0x009251E0+616112]\n\t(No symbol) [0x00835F8C]\n\t(No symbol) [0x00832328]\n\t(No symbol) [0x0083240B]\n\t(No symbol) [0x00824FF7]\n\tBaseThreadInitThunk [0x76447D59+25]\n\tRtlInitializeExceptionChain [0x7788B79B+107]\n\tRtlClearBits [0x7788B71F+191]\n"
     ]
    }
   ],
   "source": [
    "driver = webdriver.Chrome()\n",
    "url = \"http://github.com\"\n",
    "driver.get(url)\n",
    "\n",
    "time.sleep(2)\n",
    "print(driver.title)\n",
    "\n",
    "time.sleep(2)\n",
    "driver.close()"
   ]
  },
  {
   "cell_type": "code",
   "execution_count": null,
   "id": "c481ff22",
   "metadata": {},
   "outputs": [],
   "source": [
    "# Selenium ile Sayfa Etkileşimi\n",
    "from selenium.webdriver.common.keys import Keys # bunun sayesinde enter veya space tuşlarını kullanabiliyoruz\n",
    "service = Service(\"/Users/tom/Dowloads/chromedriver.exe\")\n",
    "driver = webdriver.Chrome(service=service)\n",
    "url = \"http://github.com\"\n",
    "driver.get(url)\n",
    "\n",
    "searchInput = driver.find_element_by_xpath(\"/html/body/div[1]/div[1]/header/div/div[2]/div/div/div[1]/div/div/form/label/input[1]\")\n",
    "# xpath ulaşmak için siteye girip istediğimiz yere sağ tıklayıp incele basıp css komutun istediğimiz yeri xpath leriz\n",
    "time.sleep(1)\n",
    "searchInput.send_keys(\"python\")\n",
    "time.sleep(2)\n",
    "searchInput.send_keys(Keys.ENTER)\n",
    "time.sleep(2)\n",
    "\n",
    "driver.close() "
   ]
  },
  {
   "cell_type": "code",
   "execution_count": null,
   "id": "7ce5066f",
   "metadata": {},
   "outputs": [],
   "source": [
    "# Takipçi Listesi Alınması\n",
    "from githubUserInfo import username, password\n",
    "\n",
    "class Github:    \n",
    "    \n",
    "    def __init__(self,username,password):\n",
    "        self.browser = webdriver.Chrome()\n",
    "        self.username = username\n",
    "        self.password = password\n",
    "    \n",
    "    def signIn(self):\n",
    "        self.browser.get(\"http://github.com\")\n",
    "        time.sleep(2)\n",
    "        \n",
    "        username = self.browser.find_element_by_xpath(\"\").send_keys(self.username)\n",
    "        password = self.browser.find_element_by_xpath(\"\").send_keys(self.password)\n",
    "        \n",
    "        time.sleep(1)\n",
    "        \n",
    "        self.browser.find_element_by_xpath(\"\").click # click ile butona tıklanır\n",
    "        \n",
    "    "
   ]
  },
  {
   "cell_type": "code",
   "execution_count": null,
   "id": "89576a91",
   "metadata": {},
   "outputs": [],
   "source": [
    "# web sitesi giriş \n",
    "service = Service(\"/Users/tom/Dowloads/chromedriver.exe\")\n",
    "driver = webdriver.Chrome(service=service)\n",
    "driver.get(\"https://www.apple.com\")\n",
    "link = driver.current_url\n",
    "if \"onrender.com\" in link:\n",
    "    print(\"Doğru Sayfasındasınız:\"+link)\n",
    "\n",
    "\n",
    "driver.back # geri tuşu <-\n",
    "driver.forword #ileri tuşu ->\n",
    "driver.refreshe # sayfayı yeniler\n",
    "\n",
    "driver.close # şuanki pencereyi kapatır\n",
    "driver.quit # selenium kullandığı tüm pencereleri kapatır"
   ]
  },
  {
   "cell_type": "code",
   "execution_count": null,
   "id": "7a9a66a9",
   "metadata": {},
   "outputs": [],
   "source": [
    "# metin girme görüldüğü üzere selenium girdim ve ENTER yaptım\n",
    "# burada find element doğru yaptım incele çok önemli !!!\n",
    "service = Service(\"/Users/tom/Dowloads/chromedriver.exe\")\n",
    "driver = webdriver.Chrome(service=service)\n",
    "driver.get(\"https://www.duckduckgo.com\")\n",
    "aramakutusu = driver.find_element(By.ID,\"search_form_input_homepage\") # ÇOK ÖNEMLİ YENİ BİR ÖZELLİK ARTIK BU KULLANILIYOR !!! \n",
    "aramakutusu.send_keys(\"selenium\")                                     # ID yerine NAME yapabiliriz ama \"q\" kısmıda böyle olacak \n",
    "aramakutusu.send_keys(Keys.ENTER) \n"
   ]
  },
  {
   "cell_type": "code",
   "execution_count": null,
   "id": "9f6066df",
   "metadata": {},
   "outputs": [],
   "source": [
    "# click (tıklama) olayı\n",
    "service = Service(\"/Users/tom/Dowloads/chromedriver.exe\")\n",
    "driver = webdriver.Chrome(service=service)\n",
    "driver.get(\"https://www.google.com\")\n",
    "aramakutusu = driver.find_element(By.NAME,\"q\")\n",
    "aramakutusu.send_keys(\"selenium\")\n",
    "driver.find_element(By.CSS_SELECTOR,\"div.FPdolc input.gNO89b\").click()"
   ]
  },
  {
   "cell_type": "code",
   "execution_count": null,
   "id": "3bcd0c07",
   "metadata": {},
   "outputs": [],
   "source": [
    "from selenium import webdriver\n",
    "from selenium.webdriver.chrome.service import Service\n",
    "from selenium.webdriver.common.by import By\n",
    "from selenium.webdriver.support.ui import WebDriverWait\n",
    "from selenium.webdriver.support import expected_conditions as EC\n",
    "\n",
    "# ChromeDriver'ın dosya yolunu güncelleyin\n",
    "service = Service(\"/Users/tom/Downloads/chromedriver.exe\")\n",
    "\n",
    "# Chrome tarayıcısını başlat\n",
    "driver = webdriver.Chrome(service=service)\n",
    "\n",
    "# İnternet login sayfasına git\n",
    "driver.get(\"https://the-internet.herokuapp.com/login\")\n",
    "\n",
    "# Kullanıcı adını gir\n",
    "username_input = driver.find_element(By.ID, \"username\")\n",
    "username_input.send_keys(\"gecerli_kullanici_adi\")\n",
    "\n",
    "# Şifreyi gir\n",
    "password_input = driver.find_element(By.ID, \"password\")\n",
    "password_input.send_keys(\"gecerli_sifre\")\n",
    "\n",
    "# Log in düğmesine tıkla\n",
    "login_button = driver.find_element(By.CSS_SELECTOR, \"button[type='submit']\")\n",
    "login_button.click()\n",
    "\n",
    "# Kullanıcı adının ve şifrenin doğru olup olmadığını kontrol et\n",
    "success_message = WebDriverWait(driver, 5).until(\n",
    "    EC.visibility_of_element_located((By.ID, \"flash\"))\n",
    ")\n",
    "\n",
    "if \"You logged into a secure area!\" in success_message.text:\n",
    "    print(\"Kullanıcı adı ve şifre doğru.\")\n",
    "else:\n",
    "    print(\"Kullanıcı adı ve şifre yanlış.\")\n",
    "\n",
    "# Tarayıcıyı kapat\n",
    "driver.quit()"
   ]
  },
  {
   "cell_type": "code",
   "execution_count": 5,
   "id": "bb75eccb",
   "metadata": {},
   "outputs": [],
   "source": [
    "# web element sadece 1 tanesini inceledik şimdi birden fazla webelement incelemesi nasıl yapıcaz onu inceleyelim \n",
    "# sonra inceleyelim "
   ]
  },
  {
   "cell_type": "code",
   "execution_count": null,
   "id": "d4768f73",
   "metadata": {},
   "outputs": [],
   "source": [
    "# Radyo Düğmesi ve Checbox (burası kullanıcın birden fazla seçim yapmasını inceler)\n",
    "service = Service(\"/Users/tom/Dowloads/chromedriver.exe\")\n",
    "driver = webdriver.Chrome(service=service)\n",
    "driver.get(\"https://tomspizzeria.b4a.app/\")\n",
    "ortaBoy = driver.find_element(By.CSS_SELECTOR,\"input[value='Orta']\")\n",
    "zeytin = driver.find_element(By.CSS_SELECTOR,\"input[value='zeytin']\")\n",
    "mantar = driver.find_element((By.CSS_SELECTOR,\"input[value='mantar']\")\n",
    "print(ortaBoy.is_selected()) # is_selected() true false değeri verir\n",
    "print(zeytin.is_selected())\n",
    "print(mantar.is_selected())\n",
    "ortaBoy.click()\n",
    "zeytin.click()\n",
    "mantar.click()\n",
    "print(ortaBoy.is_selected())\n",
    "print(zeytin.is_selected())\n",
    "print(mantar.is_selected())                              "
   ]
  },
  {
   "cell_type": "code",
   "execution_count": null,
   "id": "7050652f",
   "metadata": {},
   "outputs": [],
   "source": [
    "service = Service(\"./chromedriver\")\n",
    "driver = webdriver.Chrome(service=service)\n",
    "driver.maximize_window()\n",
    "driver.get(\"\")\n",
    "tryit =  driver.find_element(By.XPATH,\"\").click()\n",
    "time.sleep(3)\n",
    "clickme = driver.find_element(By.XPATH,\"\").click()\n",
    "time.sleep(3)\n",
    "uyarı = Alert(driver)\n",
    "time.sleep(2)\n",
    "uyarı.accept() # accept evet seçeneği\n",
    "driver.quit()"
   ]
  },
  {
   "cell_type": "code",
   "execution_count": null,
   "id": "6ae45323",
   "metadata": {},
   "outputs": [],
   "source": [
    "service = Service(\"./chromedriver\")\n",
    "driver = webdriver.Chrome(service=service)\n",
    "driver.maximize_window()\n",
    "driver.get(\"\")\n",
    "\n",
    "button2 = driver.find_element(By.XPATH,\"(//button)[2]\")\n",
    "button2.click()\n",
    "time.sleep(2)\n",
    "alert = Alert(driver)\n",
    "time.sleep(1)\n",
    "alert.dismiss() #dismiss hayır seçeneği\n",
    "\n",
    "result = driver.find_element(By.ID,\"result\").text\n",
    "print(result)\n",
    "driver.quit()"
   ]
  },
  {
   "cell_type": "code",
   "execution_count": 7,
   "id": "47e65551",
   "metadata": {},
   "outputs": [],
   "source": [
    "# yeni sayfa / yeni sekme \n",
    "service = Service(\"./chromedriver\")\n",
    "driver = webdriver.Chrome(service=service)\n",
    "driver.maximize_window()\n",
    "time.sleep(3)\n",
    "driver.get(\"https://www.apple.com/\")\n",
    "time.sleep(3)\n",
    "print(driver.title)\n",
    "driver.switch_to.new_window(\"tab\") #başka bir sekme aömaya yarar\n",
    "driver.get(\"https://m.youtube.com/watch?v=7mAt9H-e7uM&t=358s\")\n",
    "time.sleep(3)\n",
    "print(driver.title)\n",
    "driver.quit()\n",
    "\n",
    "\n"
   ]
  },
  {
   "cell_type": "code",
   "execution_count": null,
   "id": "3e15dd5b",
   "metadata": {},
   "outputs": [],
   "source": [
    "import time\n",
    "from selenium import webdriver\n",
    "\n",
    "service = Service(\"./chromedriver\")\n",
    "driver = webdriver.Chrome(service=service)\n",
    "driver.maximize_window()\n",
    "\n",
    "# Hedef web sayfasını aç\n",
    "driver.get(\"https://www.online-notepad.net/tr/\")\n",
    "\n",
    "try:\n",
    "    while True:\n",
    "        # Metin kutusunu bul ve \"Merhaba\" mesajını yaz\n",
    "        text_area = driver.find_element(By.ID,\"input\")\n",
    "        text_area.send_keys(\"Merhaba\")\n",
    "        \n",
    "        # 5 saniye bekle\n",
    "        time.sleep(5)\n",
    "        \n",
    "        # Mesajı temizle\n",
    "        text_area.clear()\n",
    "        \n",
    "        # 5 saniye daha bekle\n",
    "        time.sleep(5)\n",
    "except KeyboardInterrupt:\n",
    "    # Kullanıcı Ctrl+C tuş kombinasyonunu kullanarak programı durdurduğunda temizlik yapılır\n",
    "    driver.quit()"
   ]
  },
  {
   "cell_type": "code",
   "execution_count": 4,
   "id": "68306901",
   "metadata": {},
   "outputs": [
    {
     "name": "stdout",
     "output_type": "stream",
     "text": [
      "Apple\n",
      "Python ve Selenium ile web test otomasyonu-16: JavaScript Alert (Uyarı) metin okuma / vazgeçme - YouTube\n",
      "Apple\n"
     ]
    }
   ],
   "source": [
    "# pencereler arası geçiş\n",
    "service = Service(\"./chromedriver\")\n",
    "driver = webdriver.Chrome(service=service)\n",
    "driver.maximize_window()\n",
    "time.sleep(1)\n",
    "driver.get(\"https://www.apple.com/\")\n",
    "time.sleep(1)\n",
    "print(driver.title)\n",
    "apple = driver.current_window_handle\n",
    "driver.switch_to.new_window(\"tab\")\n",
    "driver.get(\"https://m.youtube.com/watch?v=7mAt9H-e7uM&t=358s\")\n",
    "time.sleep(1)\n",
    "print(driver.title)\n",
    "youtube = driver.window_handles[1]\n",
    "driver.switch_to.window(apple) #apple sekmesine geçilir\n",
    "print(driver.title)\n",
    "time.sleep(1)\n",
    "driver.switch_to.window(apple)\n",
    "time.sleep(1)\n",
    "driver.quit()"
   ]
  },
  {
   "cell_type": "code",
   "execution_count": null,
   "id": "f1481230",
   "metadata": {},
   "outputs": [],
   "source": [
    "# MOUSE İLE HAREKET ETTİRME\n",
    "from selenium import webdriver\n",
    "from selenium.webdriver.common.action_chains import ActionChains\n",
    "\n",
    "service = Service(\"./chromedriver\")\n",
    "driver = webdriver.Chrome(service=service)\n",
    "driver.maximize_window()\n",
    "time.sleep(1)\n",
    "\n",
    "user= driver.find_element(By.CSS_SELECTOR,\"\")\n",
    "isim=driver.find_element()\n",
    "link=driver.find_element()\n",
    "time.sleep(2)\n",
    "# ActionChains nesnesi oluştur\n",
    "haraket = ActionChains(driver) # yani farenin haraket etmesimi sağlayacak modül\n",
    "\n",
    "# Örnek bir fare hareketi zinciri oluştur\n",
    "haraket.move_to_element(user).click().perform() #perform eylemlerin gerçekleşmesini sağlar\n",
    "\n",
    "time.sleep(2)\n",
    "print(user.is_displayed()) # web elementinin görünür olup olmadığını kontrol eder \n",
    "# ğer web element görünürse, True değilse False olarak döner\n",
    "print(\"isim:\"+isim.text)\n",
    "link.click # mouse üzerine gelince link görünür ve tıklanır\n",
    "\n",
    "# Tarayıcıyı kapat\n",
    "driver.quit()"
   ]
  },
  {
   "cell_type": "code",
   "execution_count": null,
   "id": "af6045c7",
   "metadata": {},
   "outputs": [],
   "source": [
    "# Dinamik dropdown\n",
    "\n",
    "service = Service(\"./chromedriver\")\n",
    "driver = webdriver.Chrome(service=service)\n",
    "driver.maximize_window()\n",
    "time.sleep(1)\n",
    "driver.get(\"https://www.ucuzabilet.com\")\n",
    "\n",
    "nereden = driver.find_element(By.ID,\"from_text\")\n",
    "nereden.send_keys(\"avust\")\n",
    "time.sleep(2)\n",
    "graz = driver.find_element(By.XPATH,\"\")\n",
    "graz.click()\n",
    "\n",
    "time.sleep(1)\n",
    "driver.quit()"
   ]
  },
  {
   "cell_type": "code",
   "execution_count": 3,
   "id": "bc325ac0",
   "metadata": {},
   "outputs": [
    {
     "name": "stdout",
     "output_type": "stream",
     "text": [
      "Ödeme tipi\n",
      "Nakit\n",
      "Kredi Kartı\n",
      "Yemek Kartı\n"
     ]
    }
   ],
   "source": [
    "#Statik dropdown\n",
    "from selenium.webdriver.support.select import Select\n",
    "\n",
    "service = Service(\"./chromedriver\")\n",
    "driver = webdriver.Chrome(service=service)\n",
    "driver.maximize_window()\n",
    "driver.get(\"https://tomspizzeria.b4a.app/\")\n",
    "dropdown=driver.find_element(By.ID,\"odeme-tipi\")\n",
    "odeme = Select(dropdown) # Bu satır, sayfadaki dropdown öğesini seçmek ve bu öğeyi işlemek için aktif hale getirir\n",
    "odeme_tipleri=odeme.options # bu satırda, odeme adlı Select nesnesinin .options özelliği kullanılarak dropdown içeriğindeki seçeneklerin bir listesi alınır\n",
    "# usteki iki satır dopdowna ulaşımı sağlar\n",
    "for tip in odeme_tipleri:\n",
    "    print(tip.text)\n",
    "    \n",
    "time.sleep(2)\n",
    "odeme.select_by_visible_text(\"Kredi Kartı\")\n",
    "time.sleep(2)\n",
    "driver.quit()\n",
    "\n"
   ]
  },
  {
   "cell_type": "code",
   "execution_count": 9,
   "id": "6c205fc5",
   "metadata": {},
   "outputs": [
    {
     "name": "stdout",
     "output_type": "stream",
     "text": [
      "Hoşyar Kadın Çeşmesi ya da Huşyar Kadın Çeşmesi, Türkiye'nin İstanbul ilinin Beyoğlu ilçesinde yer alan bir çeşmedir. Osmanlı Padişahı II. Mahmud'un eşi Hoşyar Kadın tarafından, kitâbesine göre \"ölen kızı Mihrimah Sultan'ın ruhu için\" 1840 ya da 1841 yılında yaptırıldı. Zaman içerisinde çeşmenin teknesi, yol hizasının altında kaldı. Günümüzde mülkiyeti Vakıflar Genel Müdürlüğünde olan ve suyu akmayan çeşmenin bir bölümü yıkık hâldedir. Kesme taştan inşa edilmiş dikdörtgen planlı kâgir bir yapı olan çeşmenin ön yüzü mermer kaplıdır. Arka kısmında, moloz taş ile tuğladan yapılmış tonozlu deposu bulunur. Dikdörtgen şeklinde ve üzerinde birtakım kabartma süslemelerin olduğu ayna taşının yer aldığı dikdörtgen nişin her iki yanında birer pilaster vardır. Alttan ve üsten birer silme, her iki yanından ise dörder oyuğa sahip birer pilasterle sınırlanan alınlıkta, beş satır ve iki sütun hâlinde çeşmenin kitâbesi yazılıdır. (Devamı...)\n",
      "Arşiv Daha fazla seçkin madde\n",
      "---------------------------\n",
      "Hoşyar Kadın Çeşmesi ya da Huşyar Kadın Çeşmesi\n"
     ]
    }
   ],
   "source": [
    "# Metin/Yazı okumu websitesinde\n",
    "\n",
    "service = Service(\"./chromedriver\")\n",
    "driver = webdriver.Chrome(service=service)\n",
    "driver.maximize_window()\n",
    "driver.get(\"https://tr.wikipedia.org/wiki/Anasayfa\")\n",
    "alan=driver.find_element(By.ID,\"mp-tfa\").text\n",
    "print(alan)\n",
    "print(\"---------------------------\")\n",
    "alan = alan.split(\",\")[0] #string liste yapar\n",
    "print(alan)\n",
    "driver.quit()"
   ]
  },
  {
   "cell_type": "code",
   "execution_count": 7,
   "id": "fa363ec3",
   "metadata": {},
   "outputs": [
    {
     "name": "stdout",
     "output_type": "stream",
     "text": [
      "['merhaba', 'ben hakan', 'sen kimsin?']\n"
     ]
    }
   ],
   "source": [
    "string = \"merhaba,ben hakan,sen kimsin?\"\n",
    "string=string.split(\",\")\n",
    "print(string)"
   ]
  },
  {
   "cell_type": "code",
   "execution_count": 35,
   "id": "0162c538",
   "metadata": {},
   "outputs": [],
   "source": [
    "#birden fazla webelement ile aynı anda çalışma\n",
    "service = Service(\"./chromedriver\")\n",
    "driver = webdriver.Chrome(service=service)\n",
    "driver.maximize_window()\n",
    "driver.get(\"https://www.imdb.com/\")\n",
    "\n",
    "driver.find_element(By.ID, \"imdbHeader-navDrawerOpen\").click()\n",
    "time.sleep(2)\n",
    "\n",
    "# \"Top 250 Movies\" sayfasına gitmek için tıklama\n",
    "top_250_link = driver.find_element(By.XPATH, '//a[@href=\"/chart/top/?ref_=nv_mv_250\"]')\n",
    "top_250_link.click()\n",
    "time.sleep(2)\n",
    "\n",
    "# \"Top 250 Movies\" sayfasındaki film listesini bulma\n",
    "movie_list = driver.find_elements(By.XPATH, '//td[@class=\"titleColumn\"]')\n",
    "for movie in movie_list:\n",
    "    print(movie.text)\n",
    "\n",
    "driver.quit()"
   ]
  },
  {
   "cell_type": "code",
   "execution_count": 36,
   "id": "45e9a726",
   "metadata": {},
   "outputs": [],
   "source": [
    "service = Service(\"./chromedriver\")\n",
    "driver = webdriver.Chrome(service=service)\n",
    "driver.maximize_window()\n",
    "driver.get(\"https://www.imdb.com/\")\n",
    "\n",
    "driver.find_element(By.ID, \"imdbHeader-navDrawerOpen\").click()\n",
    "time.sleep(2)\n",
    "\n",
    "# \"Top 250 Movies\" sayfasına gitmek için tıklama\n",
    "top_250_link = driver.find_element(By.XPATH, '//a[@href=\"/chart/top/?ref_=nv_mv_250\"]')\n",
    "top_250_link.click()\n",
    "time.sleep(2)\n",
    "\n",
    "# \"Top 250 Movies\" sayfasındaki film listesini bulma\n",
    "movie_list = driver.find_elements(By.XPATH, '//td[@class=\"titleColumn\"]')\n",
    "\n",
    "for movie in movie_list[:20]:\n",
    "    print(movie.text)\n",
    "    \n",
    "driver.quit()"
   ]
  },
  {
   "cell_type": "code",
   "execution_count": 7,
   "id": "b730f0af",
   "metadata": {},
   "outputs": [],
   "source": [
    "# Sekrenizasyon\n",
    "\n",
    "import time\n",
    "\n",
    "from selenium import webdriver\n",
    "from selenium.webdriver.chrome.service import Service\n",
    "from selenium.webdriver.common.alert import Alert\n",
    "from selenium.webdriver.common.by import By\n",
    "from selenium.webdriver.support import expected_conditions as EC\n",
    "from selenium.webdriver.support.wait import WebDriverWait\n",
    "\n",
    "service = Service(\"./chromedriver\")\n",
    "driver = webdriver.Chrome(service=service)\n",
    "driver.maximize_window()\n",
    "# driver.implicitly_wait(30)\n",
    "# driver nesnesi ile calisiyor\n",
    "driver.get(\"https://pynishant.github.io/Selenium-python-waits.html\")\n",
    "\n",
    "tryit = driver.find_element(By.XPATH, \"//button[contains(text(), 'Try it')]\").click()\n",
    "\n",
    "WebDriverWait(driver, 45).until(EC.presence_of_element_located((By.XPATH, \"//button[contains(text(), 'CLICK ME')]\")))\n",
    "# WebDriverWait aslında bir koşul 45 sn içinde CLICK ME görürse XPATH sayesinde \n",
    "\n",
    "WebDriverWait(driver, 3).until(EC.alert_is_present()) #buda alertin koşulu \n",
    "uyari = Alert(driver)\n",
    "time.sleep(1)\n",
    "uyari.accept()\n",
    "\n",
    "# presence vs visibility\n",
    "# implicit wait - gizli bekleme\n",
    "# explicit wait - aciktan bekleme\n",
    "# fluent wait\n",
    "driver.quit()\n"
   ]
  },
  {
   "cell_type": "markdown",
   "id": "d22d10f1",
   "metadata": {},
   "source": [
    "visibility_of_element_located: Bu koşul, bir elementin sayfa üzerinde görünür hale gelmesini bekler. Elementin HTML kodu varsa ancak görünmezse, element görünür hale gelene kadar bekler.\n",
    "\n",
    "element_to_be_clickable: Bu koşul, bir elementin tıklanabilir hale gelmesini bekler. Element hem görünür hem de tıklanabilir olmalıdır.\n",
    "\n",
    "presence_of_element_located: Bu koşul, bir elementin sayfa içinde varlığını bekler. Elementin görünür veya tıklanabilir olmasını beklemeksizin, sadece varlığını kontrol eder."
   ]
  },
  {
   "cell_type": "code",
   "execution_count": 13,
   "id": "6d60a9c8",
   "metadata": {},
   "outputs": [],
   "source": [
    "service = Service(\"./chromedriver\")\n",
    "driver = webdriver.Chrome(service=service)\n",
    "driver.maximize_window()\n",
    "\n",
    "def login(username, password):\n",
    "    driver.get(\"https://the-internet.herokuapp.com/login\")\n",
    "    driver.find_element(By.ID, \"username\").send_keys(username)\n",
    "    driver.find_element(By.ID, \"password\").send_keys(password)\n",
    "    driver.find_element(By.CSS_SELECTOR, \"button.radius\").click()\n",
    "    mesaj = driver.find_element(By.ID, \"flash\").text\n",
    "    return mesaj\n",
    "\n",
    "mesaj = login(\"asdf\", \"xyz\") # fonksiyon 1.çağrılma\n",
    "assert  \"Your username is invalid!\" in mesaj # AssertionError hatası burada eğer şifre ve ad doğruysa gelir\n",
    "mesaj = login(\"tomsmith\", \"asdf\") # fonksiyon 2. çağrılması\n",
    "assert \"Your password is invalid!\"  in mesaj\n",
    "mesaj = login(\"tomsmith\", \"SuperSecretPassword!\") # fonksiyon 3. çağrılması\n",
    "assert \"You logged into a secure area!\" in mesaj\n",
    "link = driver.current_url\n",
    "assert \"secure\" in link\n",
    "driver.quit()"
   ]
  },
  {
   "cell_type": "code",
   "execution_count": 3,
   "id": "e67f8d76",
   "metadata": {},
   "outputs": [],
   "source": [
    "# webdriver Manager tarayıcı sürümünü kontrol eder ve son sürüm kullanmayı sağlar (bu biraz şirketler için güvenlik sorunu)\n",
    "from selenium import webdriver\n",
    "from selenium.webdriver.chrome.service import Service as ChromeService\n",
    "from webdriver_manager.chrome import ChromeDriverManager \n",
    "\n",
    "driver = webdriver.Chrome(service=ChromeService(ChromeDriverManager().install()))\n"
   ]
  },
  {
   "cell_type": "code",
   "execution_count": 21,
   "id": "93fbb076",
   "metadata": {},
   "outputs": [
    {
     "name": "stdout",
     "output_type": "stream",
     "text": [
      "['hakan', 'polat']\n",
      "var\n",
      "var\n"
     ]
    }
   ],
   "source": [
    "def deneme(ad, soyad):\n",
    "    return [ad, soyad]  # ad ve soyad'ı bir liste olarak döndürüyoruz\n",
    "\n",
    "incele = deneme(\"hakan\", \"polat\")\n",
    "print(incele)  # Çıktı: ['hakan', 'polat']\n",
    "\n",
    "if \"hakan\" in incele:\n",
    "    print(\"var\")\n",
    "else:\n",
    "    print(\"yok\")\n",
    "\n",
    "if \"polat\" in incele:\n",
    "    print(\"var\")\n",
    "else:\n",
    "    print(\"yok\")"
   ]
  },
  {
   "cell_type": "code",
   "execution_count": 1,
   "id": "f62e8a81",
   "metadata": {},
   "outputs": [
    {
     "name": "stdout",
     "output_type": "stream",
     "text": [
      "hakan polat\n",
      "var\n",
      "yok\n"
     ]
    }
   ],
   "source": [
    "def deneme(ad, soyad):\n",
    "    return ad + \" \" + soyad\n",
    "\n",
    "# Burada string değişkenini tanımlıyoruz\n",
    "string = \"hakan\"\n",
    "\n",
    "incele = deneme(\"hakan\", \"polat\")\n",
    "print(incele)\n",
    "\n",
    "if string in incele:\n",
    "    print(\"var\")\n",
    "else:\n",
    "    print(\"yok\")\n",
    "\n",
    "incele = deneme(\"ayşe\", \"benim\")\n",
    "\n",
    "if string in incele:\n",
    "    print(\"var\")\n",
    "else:\n",
    "    print(\"yok\")"
   ]
  },
  {
   "cell_type": "code",
   "execution_count": null,
   "id": "d8aac1fd",
   "metadata": {},
   "outputs": [],
   "source": []
  }
 ],
 "metadata": {
  "kernelspec": {
   "display_name": "Python 3 (ipykernel)",
   "language": "python",
   "name": "python3"
  },
  "language_info": {
   "codemirror_mode": {
    "name": "ipython",
    "version": 3
   },
   "file_extension": ".py",
   "mimetype": "text/x-python",
   "name": "python",
   "nbconvert_exporter": "python",
   "pygments_lexer": "ipython3",
   "version": "3.9.12"
  }
 },
 "nbformat": 4,
 "nbformat_minor": 5
}
